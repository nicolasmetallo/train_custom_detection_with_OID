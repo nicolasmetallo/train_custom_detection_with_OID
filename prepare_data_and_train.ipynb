{
 "cells": [
  {
   "cell_type": "markdown",
   "metadata": {},
   "source": [
    "# Convert Open Images into Pascal VOC"
   ]
  },
  {
   "cell_type": "markdown",
   "metadata": {},
   "source": [
    "## Download only selected classes from Open Images"
   ]
  },
  {
   "cell_type": "markdown",
   "metadata": {},
   "source": [
    "Clone the `OIDv4_ToolKit` repo\n",
    "\n",
    "```\n",
    "!git clone https://github.com/EscVM/OIDv4_ToolKit\n",
    "```\n",
    "\n",
    "cd into `OIDv4_ToolKit` and run `python3 main.py downloader --classes {class} --type_csv all`\n",
    "\n",
    "```\n",
    "!cd OIDv4_ToolKit && python3 main.py downloader --classes Coin --type_csv all -y\n",
    "```\n",
    "\n",
    "We need to download extra files and place them in `~/OIDv4_ToolKit/OID/csv_folder`\n",
    "\n",
    "```\n",
    "!wget https://storage.googleapis.com/openimages/2018_04/train/train-images-boxable-with-rotation.csv\n",
    "!wget https://storage.googleapis.com/openimages/2018_04/validation/validation-images-with-rotation.csv\n",
    "!wget https://storage.googleapis.com/openimages/2018_04/test/test-images-with-rotation.csv\n",
    "```"
   ]
  },
  {
   "cell_type": "markdown",
   "metadata": {},
   "source": [
    "## Convert OID to XML"
   ]
  },
  {
   "cell_type": "markdown",
   "metadata": {},
   "source": [
    "**Location:** \n",
    "OIDv4_ToolKit parent directory\n",
    "\n",
    "**Usage:**\n",
    "Start from OIDv4_ToolKit root directory.\n",
    "\n",
    "The script will create directories called To_PASCAL_XML (similar to the Label directories) in the Dataset Subdirectories.\n",
    "These directories contain the XML files.\n",
    "You need to download the Images and generate ToolKit-Style-Labels via the OIDv4_ToolKit before using this script.\n",
    "\n",
    "Run\n",
    "```\n",
    "!cd OIDv4_ToolKit && python oid_to_pascal_voc_xml.py\n",
    "```"
   ]
  },
  {
   "cell_type": "code",
   "execution_count": null,
   "metadata": {},
   "outputs": [],
   "source": [
    "%%writefile /home/ec2-user/SageMaker/object-detection/OIDv4_ToolKit/oid_to_pascal_voc_xml.py\n",
    "\n",
    "\"\"\"\n",
    "Location: OIDv4_ToolKit parent directory\n",
    "\n",
    "Usage: \n",
    "    Start from OIDv4_ToolKit root directory.\n",
    "\n",
    "    The script will create directories called To_PASCAL_XML (similar to the Label directories) in the Dataset Subdirectories.\n",
    "    These directories contain the XML files.\n",
    "    You need to download the Images and generate ToolKit-Style-Labels via the OIDv4_ToolKit before using this script.\n",
    "    \"\"\"\n",
    "\n",
    "import os\n",
    "from tqdm import tqdm\n",
    "from sys import exit\n",
    "import argparse\n",
    "import cv2\n",
    "from textwrap import dedent\n",
    "from lxml import etree\n",
    "\n",
    "\n",
    "XML_DIR = 'To_PASCAL_XML'\n",
    "\n",
    "\n",
    "os.chdir(os.path.join(\"OID\", \"Dataset\"))\n",
    "DIRS = os.listdir(os.getcwd())\n",
    "\n",
    "for DIR in DIRS:\n",
    "    if os.path.isdir(DIR):\n",
    "        os.chdir(DIR)\n",
    "\n",
    "        print(\"Currently in Subdirectory:\", DIR)\n",
    "\n",
    "        CLASS_DIRS = os.listdir(os.getcwd())\n",
    "        \n",
    "        for CLASS_DIR in CLASS_DIRS:\n",
    "            if os.path.isdir(CLASS_DIR):\n",
    "                os.chdir(CLASS_DIR)\n",
    "\n",
    "                print(\"\\n\" + \"Creating PASCAL VOC XML Files for Class:\", CLASS_DIR)\n",
    "                # Create Directory for annotations if it does not exist yet\n",
    "                if not os.path.exists(XML_DIR):\n",
    "                    os.makedirs(XML_DIR)\n",
    "\n",
    "                #Read Labels from OIDv4 ToolKit\n",
    "                os.chdir(\"Label\")\n",
    "\n",
    "                #Create PASCAL XML\n",
    "                for filename in tqdm(os.listdir(os.getcwd())):\n",
    "                    if filename.endswith(\".txt\"):\n",
    "                        filename_str = str.split(filename, \".\")[0]\n",
    "\n",
    "\n",
    "                        annotation = etree.Element(\"annotation\")\n",
    "                        \n",
    "                        os.chdir(\"..\")\n",
    "                        folder = etree.Element(\"folder\")\n",
    "                        folder.text = os.path.basename(os.getcwd())\n",
    "                        annotation.append(folder)\n",
    "\n",
    "                        filename_xml = etree.Element(\"filename\")\n",
    "                        filename_xml.text = filename_str + \".jpg\"\n",
    "                        annotation.append(filename_xml)\n",
    "\n",
    "                        path = etree.Element(\"path\")\n",
    "                        path.text = os.path.join(os.path.dirname(os.path.abspath(filename)), filename_str + \".jpg\")\n",
    "                        annotation.append(path)\n",
    "\n",
    "                        source = etree.Element(\"source\")\n",
    "                        annotation.append(source)\n",
    "\n",
    "                        database = etree.Element(\"database\")\n",
    "                        database.text = \"Unknown\"\n",
    "                        source.append(database)\n",
    "\n",
    "                        size = etree.Element(\"size\")\n",
    "                        annotation.append(size)\n",
    "\n",
    "                        width = etree.Element(\"width\")\n",
    "                        height = etree.Element(\"height\")\n",
    "                        depth = etree.Element(\"depth\")\n",
    "\n",
    "                        img = cv2.imread(filename_xml.text)\n",
    "\n",
    "                        width.text = str(img.shape[1])\n",
    "                        height.text = str(img.shape[0])\n",
    "                        depth.text = str(img.shape[2])\n",
    "\n",
    "                        size.append(width)\n",
    "                        size.append(height)\n",
    "                        size.append(depth)\n",
    "\n",
    "                        segmented = etree.Element(\"segmented\")\n",
    "                        segmented.text = \"0\"\n",
    "                        annotation.append(segmented)\n",
    "\n",
    "                        os.chdir(\"Label\")\n",
    "                        label_original = open(filename, 'r')\n",
    "\n",
    "                        # Labels from OIDv4 Toolkit: name_of_class X_min Y_min X_max Y_max\n",
    "                        for line in label_original:\n",
    "                            line = line.strip()\n",
    "                            l = line.split(' ')\n",
    "                            class_name = l[0]\n",
    "                            xmin_l = str(int(float(l[1])))\n",
    "                            ymin_l = str(int(float(l[2])))\n",
    "                            xmax_l = str(int(float(l[3])))\n",
    "                            ymax_l = str(int(float(l[4])))\n",
    "                            \n",
    "                            obj = etree.Element(\"object\")\n",
    "                            annotation.append(obj)\n",
    "\n",
    "                            name = etree.Element(\"name\")\n",
    "                            name.text = class_name\n",
    "                            obj.append(name)\n",
    "\n",
    "                            pose = etree.Element(\"pose\")\n",
    "                            pose.text = \"Unspecified\"\n",
    "                            obj.append(pose)\n",
    "\n",
    "                            truncated = etree.Element(\"truncated\")\n",
    "                            truncated.text = \"0\"\n",
    "                            obj.append(truncated)\n",
    "\n",
    "                            difficult = etree.Element(\"difficult\")\n",
    "                            difficult.text = \"0\"\n",
    "                            obj.append(difficult)\n",
    "\n",
    "                            bndbox = etree.Element(\"bndbox\")\n",
    "                            obj.append(bndbox)\n",
    "\n",
    "                            xmin = etree.Element(\"xmin\")\n",
    "                            xmin.text = xmin_l\n",
    "                            bndbox.append(xmin)\n",
    "\n",
    "                            ymin = etree.Element(\"ymin\")\n",
    "                            ymin.text = ymin_l\n",
    "                            bndbox.append(ymin)\n",
    "\n",
    "                            xmax = etree.Element(\"xmax\")\n",
    "                            xmax.text = xmax_l\n",
    "                            bndbox.append(xmax)\n",
    "\n",
    "                            ymax = etree.Element(\"ymax\")\n",
    "                            ymax.text = ymax_l\n",
    "                            bndbox.append(ymax)\n",
    "\n",
    "                        os.chdir(\"..\")\n",
    "\n",
    "                        os.chdir(XML_DIR)\n",
    "\n",
    "                        # write xml to file\n",
    "                        s = etree.tostring(annotation, pretty_print=True)\n",
    "                        with open(filename_str + \".xml\", 'wb') as f:\n",
    "                            f.write(s)\n",
    "                            f.close()\n",
    "\n",
    "                        os.chdir(\"..\")\n",
    "                        os.chdir(\"Label\")\n",
    "\n",
    "                os.chdir(\"..\")\n",
    "                os.chdir(\"..\")   \n",
    "                   \n",
    "        os.chdir(\"..\")\n",
    "                   "
   ]
  },
  {
   "cell_type": "markdown",
   "metadata": {},
   "source": [
    "## Create VOC_ROOT folder structure and populate"
   ]
  },
  {
   "cell_type": "markdown",
   "metadata": {},
   "source": [
    "### Import Libraries"
   ]
  },
  {
   "cell_type": "code",
   "execution_count": 57,
   "metadata": {},
   "outputs": [],
   "source": [
    "import os\n",
    "import shutil\n",
    "\n",
    "from PIL import Image\n",
    "from pathlib import Path\n",
    "from glob import glob"
   ]
  },
  {
   "cell_type": "markdown",
   "metadata": {},
   "source": [
    "### Create .txt and copy files over"
   ]
  },
  {
   "cell_type": "code",
   "execution_count": 58,
   "metadata": {},
   "outputs": [],
   "source": [
    "path_to_OID = Path.cwd()/'object-detection/OIDv4_ToolKit/OID/'"
   ]
  },
  {
   "cell_type": "code",
   "execution_count": 62,
   "metadata": {},
   "outputs": [],
   "source": [
    "image_sets = path_to_OID/'VOC_ROOT/VOC2012/ImageSets/Main'\n",
    "jpeg_images = path_to_OID/'VOC_ROOT/VOC2012/JPEGImages'\n",
    "annotations = path_to_OID/'VOC_ROOT/VOC2012/Annotations'\n",
    "\n",
    "image_sets.mkdir(parents=True, exist_ok=True)\n",
    "jpeg_images.mkdir(parents=True, exist_ok=True)\n",
    "annotations.mkdir(parents=True, exist_ok=True)\n",
    "\n",
    "for split in ['train','test','val']:\n",
    "    list_images, list_xml = [],[]\n",
    "    list_images = [x for x in (path_to_OID/f'Dataset/{split}/Coin').glob('*.jpg')]\n",
    "    list_xml = [x for x in (path_to_OID/f'Dataset/{split}/Coin/To_PASCAL_XML').glob('*.xml')]\n",
    "    \n",
    "    with open(image_sets/f'{split}.txt', 'w') as f:\n",
    "        for item in list_images:\n",
    "            f.write(\"%s\\n\" % item.stem)\n",
    "    \n",
    "    for item in list_images:\n",
    "        shutil.copyfile(item, jpeg_images/f'{item.name}')  \n",
    "        \n",
    "    for item in list_xml:\n",
    "        shutil.copyfile(item, annotations/f'{item.name}')\n",
    "        \n",
    "with open(image_sets/'trainval.txt', 'wb') as wfd:\n",
    "    for f in [image_sets/'train.txt',image_sets/'val.txt']:\n",
    "        with open(f,'rb') as fd:\n",
    "            shutil.copyfileobj(fd, wfd)"
   ]
  },
  {
   "cell_type": "markdown",
   "metadata": {},
   "source": [
    "## Train SSD"
   ]
  },
  {
   "cell_type": "markdown",
   "metadata": {},
   "source": [
    "The training with PASCAL VOC datasets need the class names to be in lower case in the XML so we are going to replace them in all files inside `VOC_ROOT/VOC2012/Annotations` with:\n",
    "```\n",
    "!find ./ -type f -exec sed -i 's/Coin/coin/' {} \\;\n",
    "```"
   ]
  },
  {
   "cell_type": "markdown",
   "metadata": {},
   "source": [
    "Git clone the following SSD implementation in PyTorch:\n",
    "```\n",
    "git clone https://github.com/lufficc/SSD\n",
    "```"
   ]
  },
  {
   "cell_type": "markdown",
   "metadata": {},
   "source": [
    "We need to edit the configuration file (.yaml): ie. `vgg_ssd300_voc0712.yaml` or `efficient_net_b3_ssd300_voc0712.yaml` and change `NUM_CLASSES:` from 21 to 2."
   ]
  },
  {
   "cell_type": "markdown",
   "metadata": {},
   "source": [
    "We now edit `./SSD/ssd/data/datasets/voc.py` and change:\n",
    "\n",
    "```\n",
    "class_names = ('__background__',\n",
    "               'aeroplane', 'bicycle', 'bird', 'boat',\n",
    "               'bottle', 'bus', 'car', 'cat', 'chair',\n",
    "               'cow', 'diningtable', 'dog', 'horse',\n",
    "               'motorbike', 'person', 'pottedplant',\n",
    "               'sheep', 'sofa', 'train', 'tvmonitor')\n",
    "```\n",
    "\n",
    "to\n",
    "\n",
    "```\n",
    "class_names = ('__background__','coin')\n",
    "```"
   ]
  },
  {
   "cell_type": "markdown",
   "metadata": {},
   "source": [
    "We can start training with:\n",
    "\n",
    "```\n",
    "# for example, train SSD300:\n",
    "python train.py --config-file configs/vgg_ssd300_voc0712.yaml --use_tensorboard 0\n",
    "```"
   ]
  }
 ],
 "metadata": {
  "kernelspec": {
   "display_name": "conda_python3",
   "language": "python",
   "name": "conda_python3"
  },
  "language_info": {
   "codemirror_mode": {
    "name": "ipython",
    "version": 3
   },
   "file_extension": ".py",
   "mimetype": "text/x-python",
   "name": "python",
   "nbconvert_exporter": "python",
   "pygments_lexer": "ipython3",
   "version": "3.6.5"
  }
 },
 "nbformat": 4,
 "nbformat_minor": 2
}
